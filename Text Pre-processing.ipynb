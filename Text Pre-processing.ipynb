{
 "cells": [
  {
   "cell_type": "markdown",
   "metadata": {},
   "source": [
    "# Text Pre-processing\n",
    "\n",
    "In this notebook we will define pre-processing functions we can use to clean-up our data. These functions can be fused/unfused together where necessary.\n",
    "\n",
    "Example:\n",
    "\n",
    "```python\n",
    "# apply function1 and function2 on text\n",
    "text = function1(function2(text))\n",
    "# disable function2, just apply function1\n",
    "text = function1(text)\n",
    "```\n",
    "\n",
    "Below, we'll code examples of some pre-processing functions applied on a sample text variable."
   ]
  },
  {
   "cell_type": "code",
   "execution_count": 1,
   "metadata": {
    "collapsed": true
   },
   "outputs": [],
   "source": [
    "text = u'This is a sample sentence for our #machinelearning presentation. Follow me @sirfz! :)'"
   ]
  },
  {
   "cell_type": "code",
   "execution_count": 2,
   "metadata": {
    "collapsed": true
   },
   "outputs": [],
   "source": [
    "# lower-case\n",
    "def to_lower(text):\n",
    "    return text.lower()"
   ]
  },
  {
   "cell_type": "code",
   "execution_count": 3,
   "metadata": {},
   "outputs": [
    {
     "name": "stdout",
     "output_type": "stream",
     "text": [
      "this is a sample sentence for our #machinelearning presentation. follow me @sirfz! :)\n"
     ]
    }
   ],
   "source": [
    "print to_lower(text)"
   ]
  },
  {
   "cell_type": "code",
   "execution_count": 4,
   "metadata": {
    "collapsed": true
   },
   "outputs": [],
   "source": [
    "# keep alphanumeric characters only\n",
    "import re  # regular expressions module\n",
    "alphanum = re.compile('[^\\W]+')  # add re.UNICODE flag to match unicode characters as well\n",
    "\n",
    "def get_alphanum(text):\n",
    "    return u' '.join(alphanum.findall(text))"
   ]
  },
  {
   "cell_type": "code",
   "execution_count": 5,
   "metadata": {},
   "outputs": [
    {
     "name": "stdout",
     "output_type": "stream",
     "text": [
      "This is a sample sentence for our machinelearning presentation Follow me sirfz\n"
     ]
    }
   ],
   "source": [
    "print get_alphanum(text)"
   ]
  },
  {
   "cell_type": "code",
   "execution_count": 6,
   "metadata": {
    "collapsed": true
   },
   "outputs": [],
   "source": [
    "# replace URLs with __URL__\n",
    "url_re = re.compile(r'(https?://|www\\.)([a-z0-9-]+\\.)+[a-z]{2,6}(/[\\w]+)*', re.I)\n",
    "\n",
    "def replace_urls(text):\n",
    "    return url_re.sub(u'__URL__', text)"
   ]
  },
  {
   "cell_type": "code",
   "execution_count": 7,
   "metadata": {},
   "outputs": [
    {
     "name": "stdout",
     "output_type": "stream",
     "text": [
      "visit __URL__ or follow me on __URL__.\n"
     ]
    }
   ],
   "source": [
    "print replace_urls(u'visit http://mypage.com or follow me on www.foobar.com.lb.')"
   ]
  },
  {
   "cell_type": "code",
   "execution_count": 8,
   "metadata": {
    "collapsed": true
   },
   "outputs": [],
   "source": [
    "# transliterate (using the translitcodec module)\n",
    "import translitcodec\n",
    "\n",
    "def transliterate(text):\n",
    "    return text.encode('transliterate')"
   ]
  },
  {
   "cell_type": "code",
   "execution_count": 9,
   "metadata": {},
   "outputs": [
    {
     "name": "stdout",
     "output_type": "stream",
     "text": [
      "French e, e, e, e, e - what's the difference?\n"
     ]
    }
   ],
   "source": [
    "print transliterate(u'French e, è, é, ê, ë – what’s the difference?')"
   ]
  },
  {
   "cell_type": "code",
   "execution_count": 10,
   "metadata": {
    "collapsed": true
   },
   "outputs": [],
   "source": [
    "# remove tags\n",
    "tags = re.compile(r'(\\s*)[@#](\\w+)\\b')\n",
    "\n",
    "def remove_tags(text):\n",
    "    return tags.sub(ur'\\1\\2', text)"
   ]
  },
  {
   "cell_type": "code",
   "execution_count": 11,
   "metadata": {},
   "outputs": [
    {
     "name": "stdout",
     "output_type": "stream",
     "text": [
      "This is a sample sentence for our machinelearning presentation. Follow me sirfz! :)\n"
     ]
    }
   ],
   "source": [
    "print remove_tags(text)"
   ]
  },
  {
   "cell_type": "code",
   "execution_count": 12,
   "metadata": {
    "collapsed": true
   },
   "outputs": [],
   "source": [
    "# correct typos (custom rules)\n",
    "typo_map = {\n",
    "    ur'\\biphon\\b': u'iphone',\n",
    "    ur'\\bsamsng\\b': u'samsung'\n",
    "}\n",
    "typo_map = [(re.compile(typo), replacement) for typo, replacement in typo_map.iteritems()]\n",
    "\n",
    "def correct_typos(text):\n",
    "    for typo, replacement in typo_map:\n",
    "        text = typo.sub(replacement, text)\n",
    "    return text"
   ]
  },
  {
   "cell_type": "code",
   "execution_count": 13,
   "metadata": {},
   "outputs": [
    {
     "name": "stdout",
     "output_type": "stream",
     "text": [
      "I prefer samsung phones over an iphone any day!\n"
     ]
    }
   ],
   "source": [
    "print correct_typos(u'I prefer samsng phones over an iphon any day!')"
   ]
  },
  {
   "cell_type": "code",
   "execution_count": 14,
   "metadata": {},
   "outputs": [
    {
     "name": "stdout",
     "output_type": "stream",
     "text": [
      "this is a sample sentence for our machinelearning presentation follow me sirfz\n"
     ]
    }
   ],
   "source": [
    "# fuse functions together\n",
    "output = get_alphanum(to_lower(text))\n",
    "print output"
   ]
  },
  {
   "cell_type": "code",
   "execution_count": 15,
   "metadata": {},
   "outputs": [
    {
     "name": "stdout",
     "output_type": "stream",
     "text": [
      "follow us on instagram lamerz (__URL__)\n"
     ]
    }
   ],
   "source": [
    "text = u'follow us on Instagram @lamerz (http://lame.link)'\n",
    "output = correct_typos(transliterate(remove_tags(replace_urls(to_lower(text)))))\n",
    "print output"
   ]
  }
 ],
 "metadata": {
  "kernelspec": {
   "display_name": "Python 2",
   "language": "python",
   "name": "python2"
  },
  "language_info": {
   "codemirror_mode": {
    "name": "ipython",
    "version": 2
   },
   "file_extension": ".py",
   "mimetype": "text/x-python",
   "name": "python",
   "nbconvert_exporter": "python",
   "pygments_lexer": "ipython2",
   "version": "2.7.13"
  }
 },
 "nbformat": 4,
 "nbformat_minor": 2
}
