{
 "cells": [
  {
   "cell_type": "markdown",
   "metadata": {},
   "source": [
    "# Data Transformation\n",
    "\n",
    "In this notebook we demonstrate how to encode features into machine-readable representation."
   ]
  },
  {
   "cell_type": "code",
   "execution_count": 30,
   "metadata": {
    "collapsed": true
   },
   "outputs": [],
   "source": [
    "import numpy as np\n",
    "import pandas as pd\n",
    "from collections import Counter\n",
    "from processing import text as text_prepro"
   ]
  },
  {
   "cell_type": "code",
   "execution_count": 20,
   "metadata": {
    "collapsed": true
   },
   "outputs": [],
   "source": [
    "# pre-pro pipeline\n",
    "pipeline = [\n",
    "    text_prepro.to_lower,\n",
    "    text_prepro.transliterate,\n",
    "    text_prepro.remove_tags,\n",
    "    text_prepro.tokenize_url,\n",
    "    text_prepro.alphanum\n",
    "]"
   ]
  },
  {
   "cell_type": "code",
   "execution_count": 29,
   "metadata": {},
   "outputs": [
    {
     "name": "stdout",
     "output_type": "stream",
     "text": [
      "Hello @foobar, VISIT my [site](http://foo.bar)\n",
      "[1]: hello @foobar, visit my [site](http://foo.bar)\n",
      "[2]: hello @foobar, visit my [site](http://foo.bar)\n",
      "[3]: hello foobar, visit my [site](http://foo.bar)\n",
      "[4]: hello foobar, visit my [site](__URL__)\n",
      "[5]: hello foobar visit my site __URL__\n",
      "\n"
     ]
    }
   ],
   "source": [
    "text = u'Hello @foobar, VISIT my [site](http://foo.bar)'\n",
    "print text\n",
    "for i, pipe in enumerate(pipeline, 1):\n",
    "    text = pipe(text)\n",
    "    print u'[{}]: {}'.format(i, text)\n",
    "print"
   ]
  },
  {
   "cell_type": "code",
   "execution_count": 41,
   "metadata": {},
   "outputs": [],
   "source": [
    "# read datasets\n",
    "toxic = pd.read_csv('datasets/toxic_comments.csv', encoding='utf-8')\n",
    "non_toxic = pd.read_csv('datasets/non_toxic_comments.csv', encoding='utf-8')"
   ]
  },
  {
   "cell_type": "code",
   "execution_count": 84,
   "metadata": {},
   "outputs": [],
   "source": [
    "# list of raw comments\n",
    "comments = np.concatenate([non_toxic['comment'].unique(), toxic['comment'].unique()])"
   ]
  },
  {
   "cell_type": "code",
   "execution_count": 85,
   "metadata": {},
   "outputs": [
    {
     "data": {
      "text/plain": [
       "(159436,)"
      ]
     },
     "execution_count": 85,
     "metadata": {},
     "output_type": "execute_result"
    }
   ],
   "source": [
    "comments.shape"
   ]
  },
  {
   "cell_type": "code",
   "execution_count": 86,
   "metadata": {},
   "outputs": [
    {
     "data": {
      "text/plain": [
       "array([ u\"This: :One can make an analogy in mathematical terms by envisioning the distribution of opinions in a population as a Gaussian curve. We would then say that the consensus would be a statement that represents the range of opinions within perhaps three standard deviations of the mean opinion.  sounds arbitrary and ad hoc.  Does it really belong in n encyclopedia article?  I don't see that it adds anything useful.  The paragraph that follows seems much more useful.  Are there any political theorists out there who can clarify the issues?  It seems to me that this is an issue that Locke, Rousseau, de Toqueville, and others must have debated...  SR \",\n",
       "       u\"`  :Clarification for you  (and Zundark's right, i should have checked the Wikipedia bugs page first).   This is a ``bug`` in the code that makes wikipedia work  it just means that there is a line of code that may have an error as small as an extra space. It's analogous (in a VERY simplified way) to trying to make something bold in HTML and forgetting to put the  at the end, so you'd see something like this:  words in bold  Instead of this:  words in bold   It's not like a virus, that is code somebody deliberately wrote in order to infect your computer and damage files, so it won't ``go around.`` JHK   `\",\n",
       "       u'Elected or Electoral? JHK'], dtype=object)"
      ]
     },
     "execution_count": 86,
     "metadata": {},
     "output_type": "execute_result"
    }
   ],
   "source": [
    "comments[:3]"
   ]
  },
  {
   "cell_type": "code",
   "execution_count": 121,
   "metadata": {},
   "outputs": [],
   "source": [
    "# extract word counts\n",
    "word_counts = Counter()\n",
    "two_grams = Counter()\n",
    "for comment in comments:\n",
    "    for pipe in pipeline:\n",
    "        comment = pipe(comment)\n",
    "    word_counts.update(comment.split())\n",
    "    two_grams.update(comment[i:i+2] for i in xrange(0, len(text), 2))"
   ]
  },
  {
   "cell_type": "code",
   "execution_count": 122,
   "metadata": {},
   "outputs": [
    {
     "name": "stdout",
     "output_type": "stream",
     "text": [
      "180929\n",
      "1704\n"
     ]
    }
   ],
   "source": [
    "print len(word_counts)\n",
    "print len(two_grams)"
   ]
  },
  {
   "cell_type": "code",
   "execution_count": 47,
   "metadata": {},
   "outputs": [
    {
     "data": {
      "text/plain": [
       "[(u'the', 498552),\n",
       " (u'to', 298646),\n",
       " (u'i', 241659),\n",
       " (u'of', 225486),\n",
       " (u'and', 225296),\n",
       " (u'you', 219647),\n",
       " (u'a', 216811),\n",
       " (u'is', 177325),\n",
       " (u'that', 161825),\n",
       " (u'it', 149322)]"
      ]
     },
     "execution_count": 47,
     "metadata": {},
     "output_type": "execute_result"
    }
   ],
   "source": [
    "# top 10 words\n",
    "word_counts.most_common(10)"
   ]
  },
  {
   "cell_type": "code",
   "execution_count": 48,
   "metadata": {},
   "outputs": [
    {
     "data": {
      "text/plain": [
       "[(u'ilkali', 1),\n",
       " (u'huanguan', 1),\n",
       " (u'leaded', 1),\n",
       " (u'pe\\u026al\\u0268n', 1),\n",
       " (u'hmmpff', 1),\n",
       " (u'qoyunli', 1),\n",
       " (u'thoroughfare', 1),\n",
       " (u'fradaulent', 1),\n",
       " (u'proberly', 1),\n",
       " (u'pocketbook', 1),\n",
       " (u'mahakavyas', 1),\n",
       " (u'fudd', 1),\n",
       " (u'cryokinesis', 1),\n",
       " (u'wonk', 1),\n",
       " (u'sipopo', 1),\n",
       " (u'belembay', 1),\n",
       " (u'knisfo', 1),\n",
       " (u'onclelosse', 1),\n",
       " (u'pertecting', 1),\n",
       " (u'antivermins', 1),\n",
       " (u'warrig', 1),\n",
       " (u'ajna', 1),\n",
       " (u'talkapge', 1),\n",
       " (u'ipage', 1),\n",
       " (u'nepotising', 1),\n",
       " (u'cataphract', 1),\n",
       " (u'rattner2', 1),\n",
       " (u'bratwurst', 1),\n",
       " (u'publicationthe', 1),\n",
       " (u'clarityafflicting', 1),\n",
       " (u'ornella', 1),\n",
       " (u'cronyn', 1),\n",
       " (u'australianist', 1),\n",
       " (u'chromate', 1),\n",
       " (u'ehlers', 1),\n",
       " (u'spanko', 1),\n",
       " (u'thurst', 1),\n",
       " (u'gnawing', 1),\n",
       " (u'bennies', 1),\n",
       " (u'spanky', 1),\n",
       " (u'as_of', 1),\n",
       " (u'branco', 1),\n",
       " (u'\\u65b0\\u64b0\\u59d3\\u6c0f\\u9332', 1),\n",
       " (u'accoutns', 1),\n",
       " (u'queensborough', 1),\n",
       " (u'commagene', 1),\n",
       " (u'psone', 1),\n",
       " (u'classsssssssss', 1),\n",
       " (u'morihiro', 1),\n",
       " (u'downstep', 1)]"
      ]
     },
     "execution_count": 48,
     "metadata": {},
     "output_type": "execute_result"
    }
   ],
   "source": [
    "# bottom 50 words\n",
    "word_counts.most_common()[-50:]"
   ]
  },
  {
   "cell_type": "code",
   "execution_count": 51,
   "metadata": {
    "collapsed": true
   },
   "outputs": [],
   "source": [
    "# select words with more than 1 occurrence\n",
    "select = {k: v for k, v in word_counts.iteritems() if v > 1}"
   ]
  },
  {
   "cell_type": "code",
   "execution_count": 52,
   "metadata": {},
   "outputs": [
    {
     "data": {
      "text/plain": [
       "87334"
      ]
     },
     "execution_count": 52,
     "metadata": {},
     "output_type": "execute_result"
    }
   ],
   "source": [
    "len(select)"
   ]
  },
  {
   "cell_type": "code",
   "execution_count": 54,
   "metadata": {},
   "outputs": [],
   "source": [
    "sorted_words = sorted(select.iteritems(), key=lambda (k, v): (v, k), reverse=True)\n",
    "word_indexes = {k: i for i, (k, _) in enumerate(sorted_words)}"
   ]
  },
  {
   "cell_type": "code",
   "execution_count": 55,
   "metadata": {},
   "outputs": [
    {
     "data": {
      "text/plain": [
       "7"
      ]
     },
     "execution_count": 55,
     "metadata": {},
     "output_type": "execute_result"
    }
   ],
   "source": [
    "word_indexes['is']"
   ]
  },
  {
   "cell_type": "code",
   "execution_count": 57,
   "metadata": {},
   "outputs": [
    {
     "data": {
      "text/plain": [
       "1173"
      ]
     },
     "execution_count": 57,
     "metadata": {},
     "output_type": "execute_result"
    }
   ],
   "source": [
    "word_indexes['damn']"
   ]
  },
  {
   "cell_type": "code",
   "execution_count": 71,
   "metadata": {
    "collapsed": true
   },
   "outputs": [],
   "source": [
    "def bag_of_words(text):\n",
    "    for pipe in pipeline:\n",
    "        text = pipe(text)\n",
    "    vector = np.zeros((len(word_indexes),), dtype=np.float32)\n",
    "    for w in text.split():\n",
    "        ind = word_indexes.get(w)\n",
    "        if ind is not None:\n",
    "            vector[ind] = 1.\n",
    "    return vector"
   ]
  },
  {
   "cell_type": "code",
   "execution_count": 87,
   "metadata": {},
   "outputs": [],
   "source": [
    "vector = bag_of_words(comments[10])"
   ]
  },
  {
   "cell_type": "code",
   "execution_count": 88,
   "metadata": {},
   "outputs": [
    {
     "data": {
      "text/plain": [
       "(87334,)"
      ]
     },
     "execution_count": 88,
     "metadata": {},
     "output_type": "execute_result"
    }
   ],
   "source": [
    "vector.shape"
   ]
  },
  {
   "cell_type": "code",
   "execution_count": 89,
   "metadata": {},
   "outputs": [
    {
     "data": {
      "text/plain": [
       "u\"`  Can anyone provide any justification for the spelling ``Middle Earth`` used throughout Wikipedia? Where in Tolkien's work is this spelling used? Everywhere I've looked he spells it ``Middle-earth`` (hyphenated, with a lowercase e). , Friday, April 12, 2002  :Since no one provided any justification, I've moved the main page. But we still need to fix the spelling in almost every Tolkien-related article. , Sunday, April 14, 2002`\""
      ]
     },
     "execution_count": 89,
     "metadata": {},
     "output_type": "execute_result"
    }
   ],
   "source": [
    "comments[10]"
   ]
  },
  {
   "cell_type": "code",
   "execution_count": 91,
   "metadata": {},
   "outputs": [
    {
     "data": {
      "text/plain": [
       "1.0"
      ]
     },
     "execution_count": 91,
     "metadata": {},
     "output_type": "execute_result"
    }
   ],
   "source": [
    "vector[word_indexes['used']]"
   ]
  },
  {
   "cell_type": "code",
   "execution_count": 92,
   "metadata": {},
   "outputs": [
    {
     "data": {
      "text/plain": [
       "55.0"
      ]
     },
     "execution_count": 92,
     "metadata": {},
     "output_type": "execute_result"
    }
   ],
   "source": [
    "vector.sum()"
   ]
  },
  {
   "cell_type": "code",
   "execution_count": 112,
   "metadata": {},
   "outputs": [],
   "source": [
    "# n-grams\n",
    "import string\n",
    "import itertools\n",
    "letters = u''.join(set((string.letters + string.digits).lower() + ' '))\n",
    "two_grams = [u\"\".join(p) for p in set(itertools.permutations(letters, 2))]"
   ]
  },
  {
   "cell_type": "code",
   "execution_count": 115,
   "metadata": {},
   "outputs": [
    {
     "data": {
      "text/plain": [
       "1332"
      ]
     },
     "execution_count": 115,
     "metadata": {},
     "output_type": "execute_result"
    }
   ],
   "source": [
    "len(two_grams)"
   ]
  },
  {
   "cell_type": "code",
   "execution_count": null,
   "metadata": {
    "collapsed": true
   },
   "outputs": [],
   "source": []
  }
 ],
 "metadata": {
  "kernelspec": {
   "display_name": "Python 2",
   "language": "python",
   "name": "python2"
  },
  "language_info": {
   "codemirror_mode": {
    "name": "ipython",
    "version": 2
   },
   "file_extension": ".py",
   "mimetype": "text/x-python",
   "name": "python",
   "nbconvert_exporter": "python",
   "pygments_lexer": "ipython2",
   "version": "2.7.13"
  }
 },
 "nbformat": 4,
 "nbformat_minor": 2
}
