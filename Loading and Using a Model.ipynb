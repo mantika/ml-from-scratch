{
 "cells": [
  {
   "cell_type": "markdown",
   "metadata": {},
   "source": [
    "# Loading a Using a Model\n",
    "\n",
    "In this notebook we demonstrate how we can load a saved model without other dependencies and without re-defining the whole Graph network. We will apply the feature encoding on sample text and score it using the loaded model."
   ]
  },
  {
   "cell_type": "code",
   "execution_count": 1,
   "metadata": {
    "collapsed": true
   },
   "outputs": [],
   "source": [
    "import numpy as np\n",
    "import tensorflow as tf\n",
    "import json\n",
    "from processing import text as text_prepro"
   ]
  },
  {
   "cell_type": "markdown",
   "metadata": {},
   "source": [
    "## Define feature encoders\n",
    "\n",
    "Load vocabularies and re-construct pre-processing pipelines and feature extraction used on the training dataset."
   ]
  },
  {
   "cell_type": "code",
   "execution_count": 2,
   "metadata": {
    "collapsed": true
   },
   "outputs": [],
   "source": [
    "# load vocabularies\n",
    "with open('datasets/semantic_vocab.json') as f:\n",
    "    word_indexes = json.load(f)\n",
    "with open('datasets/letter_vocab.json') as f:\n",
    "    char_indexes = json.load(f)"
   ]
  },
  {
   "cell_type": "code",
   "execution_count": 3,
   "metadata": {
    "collapsed": true
   },
   "outputs": [],
   "source": [
    "# pre-processing pipeline\n",
    "pipeline = [\n",
    "    # convert all letters to lowercase\n",
    "    text_prepro.to_lower,\n",
    "    # transliterate non-english letters\n",
    "    text_prepro.transliterate,\n",
    "    # strip tags (@ and #) from words\n",
    "    text_prepro.remove_tags,\n",
    "    # tokenize URLs into \"__URL__\"\n",
    "    text_prepro.tokenize_url,\n",
    "    # Keep alphanumeric characters only\n",
    "    text_prepro.alphanum\n",
    "]"
   ]
  },
  {
   "cell_type": "code",
   "execution_count": 4,
   "metadata": {
    "collapsed": true
   },
   "outputs": [],
   "source": [
    "# define the prepro as a functiom\n",
    "def semantic_prepro(text):\n",
    "    for pipe in pipeline:\n",
    "        text = pipe(text)\n",
    "    return text"
   ]
  },
  {
   "cell_type": "code",
   "execution_count": 5,
   "metadata": {
    "collapsed": true
   },
   "outputs": [],
   "source": [
    "# semantic vector mapper\n",
    "def semantic_vector(text):\n",
    "    text = semantic_prepro(text)\n",
    "    vector = np.zeros((len(word_indexes),), dtype=np.float32)\n",
    "    for w in text.split():\n",
    "        ind = word_indexes.get(w)\n",
    "        if ind is not None:\n",
    "            vector[ind] = 1.\n",
    "    return vector"
   ]
  },
  {
   "cell_type": "code",
   "execution_count": 6,
   "metadata": {
    "collapsed": true
   },
   "outputs": [],
   "source": [
    "# character mapper\n",
    "def letter_vector(text):\n",
    "    vector = np.zeros((len(char_indexes),), dtype=np.float32)\n",
    "    for i in xrange(0, len(text), 2):\n",
    "        c = text[i:i + 2]\n",
    "        i = char_indexes.get(c)\n",
    "        if i is not None:\n",
    "            vector[i] = 1.\n",
    "    return vector"
   ]
  },
  {
   "cell_type": "code",
   "execution_count": 7,
   "metadata": {
    "collapsed": true
   },
   "outputs": [],
   "source": [
    "def encode_text(text):\n",
    "    s = semantic_vector(text)\n",
    "    l = letter_vector(text)\n",
    "    return np.concatenate([s, l])"
   ]
  },
  {
   "cell_type": "markdown",
   "metadata": {},
   "source": [
    "## Load the saved model\n",
    "\n",
    "We first load the saved Graph use `tf.train.import_meta_graph`, this loads the full NN we previously built for training. We then load the model checkpoint using the `saver` object retrieved from the saved graph. This will load and initialize all the weights and biases we saved in our training session."
   ]
  },
  {
   "cell_type": "code",
   "execution_count": 8,
   "metadata": {
    "collapsed": true
   },
   "outputs": [],
   "source": [
    "# restore meta graph\n",
    "saver = tf.train.import_meta_graph('models/mlp-1600.meta')"
   ]
  },
  {
   "cell_type": "code",
   "execution_count": 9,
   "metadata": {
    "collapsed": true
   },
   "outputs": [],
   "source": [
    "# initialize a new session\n",
    "session = tf.Session()"
   ]
  },
  {
   "cell_type": "code",
   "execution_count": 10,
   "metadata": {},
   "outputs": [
    {
     "name": "stdout",
     "output_type": "stream",
     "text": [
      "INFO:tensorflow:Restoring parameters from models/mlp-1600\n"
     ]
    }
   ],
   "source": [
    "# restore latest checkpoint\n",
    "saver.restore(session, 'models/mlp-1600')"
   ]
  },
  {
   "cell_type": "code",
   "execution_count": 11,
   "metadata": {
    "collapsed": true
   },
   "outputs": [],
   "source": [
    "# get default graph (to which the meta graph has been loaded by default)\n",
    "g = tf.get_default_graph()"
   ]
  },
  {
   "cell_type": "code",
   "execution_count": 12,
   "metadata": {},
   "outputs": [
    {
     "data": {
      "text/plain": [
       "[u'inputs',\n",
       " u'trainable_variables',\n",
       " u'variables',\n",
       " u'predictor',\n",
       " u'train_op',\n",
       " u'summaries']"
      ]
     },
     "execution_count": 12,
     "metadata": {},
     "output_type": "execute_result"
    }
   ],
   "source": [
    "# check the loaded collection keys\n",
    "g.get_all_collection_keys()"
   ]
  },
  {
   "cell_type": "code",
   "execution_count": 13,
   "metadata": {
    "collapsed": true
   },
   "outputs": [],
   "source": [
    "# inputs placeholder\n",
    "x = g.get_collection('inputs')[0]"
   ]
  },
  {
   "cell_type": "code",
   "execution_count": 14,
   "metadata": {
    "collapsed": true
   },
   "outputs": [],
   "source": [
    "# predictor\n",
    "predictor = g.get_collection('predictor')[0]"
   ]
  },
  {
   "cell_type": "markdown",
   "metadata": {},
   "source": [
    "## Scoring records\n",
    "\n",
    "After loading the model, we can now feed it values to get a score. We encode the given text into a feature vector and feed it to the network to get a prediction."
   ]
  },
  {
   "cell_type": "code",
   "execution_count": 15,
   "metadata": {},
   "outputs": [
    {
     "data": {
      "text/plain": [
       "array([[ 0.56316912]], dtype=float32)"
      ]
     },
     "execution_count": 15,
     "metadata": {},
     "output_type": "execute_result"
    }
   ],
   "source": [
    "# score sample text\n",
    "session.run(predictor, feed_dict={x: [encode_text(u'hello world!')]})"
   ]
  },
  {
   "cell_type": "code",
   "execution_count": 16,
   "metadata": {},
   "outputs": [
    {
     "data": {
      "text/plain": [
       "array([[ 0.54647446]], dtype=float32)"
      ]
     },
     "execution_count": 16,
     "metadata": {},
     "output_type": "execute_result"
    }
   ],
   "source": [
    "session.run(predictor, feed_dict={x: [encode_text(u\"I'm so happy I trained my first Neural Network :D\")]})"
   ]
  },
  {
   "cell_type": "code",
   "execution_count": 17,
   "metadata": {},
   "outputs": [
    {
     "data": {
      "text/plain": [
       "array([[ 0.61093313]], dtype=float32)"
      ]
     },
     "execution_count": 17,
     "metadata": {},
     "output_type": "execute_result"
    }
   ],
   "source": [
    "session.run(predictor, feed_dict={x: [encode_text(u\"shut up you idiot...\")]})"
   ]
  }
 ],
 "metadata": {
  "kernelspec": {
   "display_name": "Python 2",
   "language": "python",
   "name": "python2"
  },
  "language_info": {
   "codemirror_mode": {
    "name": "ipython",
    "version": 2
   },
   "file_extension": ".py",
   "mimetype": "text/x-python",
   "name": "python",
   "nbconvert_exporter": "python",
   "pygments_lexer": "ipython2",
   "version": "2.7.13"
  }
 },
 "nbformat": 4,
 "nbformat_minor": 2
}
